{
 "cells": [
  {
   "cell_type": "code",
   "execution_count": 2,
   "id": "f96e919f",
   "metadata": {},
   "outputs": [],
   "source": [
    "%load_ext tensorboard"
   ]
  },
  {
   "cell_type": "code",
   "execution_count": 1,
   "id": "35f8a8a9",
   "metadata": {},
   "outputs": [
    {
     "name": "stderr",
     "output_type": "stream",
     "text": [
      "2022-02-20 18:32:33.093726: W tensorflow/stream_executor/platform/default/dso_loader.cc:64] Could not load dynamic library 'libcudart.so.11.0'; dlerror: libcudart.so.11.0: cannot open shared object file: No such file or directory\n",
      "2022-02-20 18:32:33.093751: I tensorflow/stream_executor/cuda/cudart_stub.cc:29] Ignore above cudart dlerror if you do not have a GPU set up on your machine.\n"
     ]
    }
   ],
   "source": [
    "import datetime, os\n",
    "\n",
    "from pathlib import Path\n",
    "from matplotlib import pyplot as plt\n",
    "from quickdraw import QuickDrawDataGroup, QuickDrawData\n",
    "\n",
    "from tensorflow.keras.preprocessing import image_dataset_from_directory\n",
    "\n",
    "from tensorflow.keras.models import Sequential\n",
    "from tensorflow.keras.losses import SparseCategoricalCrossentropy\n",
    "from tensorflow.keras.metrics import sparse_categorical_accuracy\n",
    "from tensorflow.keras.layers.experimental.preprocessing import Rescaling\n",
    "from tensorflow.keras.layers import Dense, Flatten, Conv2D, MaxPooling2D, Dropout, BatchNormalization\n",
    "\n",
    "from tensorflow.keras.callbacks import TensorBoard"
   ]
  },
  {
   "cell_type": "code",
   "execution_count": 4,
   "id": "6517b326",
   "metadata": {},
   "outputs": [],
   "source": [
    "image_size = (28, 28)"
   ]
  },
  {
   "cell_type": "code",
   "execution_count": null,
   "id": "9abd8853",
   "metadata": {},
   "outputs": [],
   "source": [
    "def generate_class_images(name, max_drawings, recognized):\n",
    "    directory = Path(\"dataset/\" + name)\n",
    "\n",
    "    if not directory.exists():\n",
    "        directory.mkdir(parents=True)\n",
    "\n",
    "    images = QuickDrawDataGroup(name, max_drawings=max_drawings, recognized=recognized)\n",
    "    for img in images.drawings:\n",
    "        filename = directory.as_posix() + \"/\" + str(img.key_id) + \".png\"\n",
    "        img.get_image(stroke_width=3).resize(image_size).save(filename)\n",
    "\n",
    "for label in QuickDrawData().drawing_names:\n",
    "    generate_class_images(label, max_drawings=1200, recognized=True)"
   ]
  },
  {
   "cell_type": "code",
   "execution_count": 5,
   "id": "6fd72715",
   "metadata": {},
   "outputs": [
    {
     "name": "stdout",
     "output_type": "stream",
     "text": [
      "Found 448500 files belonging to 345 classes.\n",
      "Using 358800 files for training.\n"
     ]
    },
    {
     "name": "stderr",
     "output_type": "stream",
     "text": [
      "2022-02-20 18:33:47.967880: W tensorflow/stream_executor/platform/default/dso_loader.cc:64] Could not load dynamic library 'libcuda.so.1'; dlerror: libcuda.so.1: cannot open shared object file: No such file or directory\n",
      "2022-02-20 18:33:47.967911: W tensorflow/stream_executor/cuda/cuda_driver.cc:269] failed call to cuInit: UNKNOWN ERROR (303)\n",
      "2022-02-20 18:33:47.967930: I tensorflow/stream_executor/cuda/cuda_diagnostics.cc:156] kernel driver does not appear to be running on this host (lars-UM700): /proc/driver/nvidia/version does not exist\n",
      "2022-02-20 18:33:47.968221: I tensorflow/core/platform/cpu_feature_guard.cc:142] This TensorFlow binary is optimized with oneAPI Deep Neural Network Library (oneDNN) to use the following CPU instructions in performance-critical operations:  AVX2 FMA\n",
      "To enable them in other operations, rebuild TensorFlow with the appropriate compiler flags.\n"
     ]
    },
    {
     "name": "stdout",
     "output_type": "stream",
     "text": [
      "Found 448500 files belonging to 345 classes.\n",
      "Using 89700 files for validation.\n"
     ]
    }
   ],
   "source": [
    "batch_size = 32\n",
    "\n",
    "train_ds = image_dataset_from_directory(\n",
    "    \"dataset\",\n",
    "    validation_split=0.2,\n",
    "    subset=\"training\",\n",
    "    seed=123,\n",
    "    color_mode=\"grayscale\",\n",
    "    image_size=image_size,\n",
    "    batch_size=batch_size\n",
    ")\n",
    "\n",
    "val_ds = image_dataset_from_directory(\n",
    "    \"dataset\",\n",
    "    validation_split=0.2,\n",
    "    subset=\"validation\",\n",
    "    seed=123,\n",
    "    color_mode=\"grayscale\",\n",
    "    image_size=image_size,\n",
    "    batch_size=batch_size\n",
    ")"
   ]
  },
  {
   "cell_type": "code",
   "execution_count": 6,
   "id": "d243d6b9",
   "metadata": {},
   "outputs": [
    {
     "name": "stderr",
     "output_type": "stream",
     "text": [
      "2022-02-20 18:34:09.082751: I tensorflow/compiler/mlir/mlir_graph_optimization_pass.cc:185] None of the MLIR Optimization Passes are enabled (registered 2)\n"
     ]
    },
    {
     "data": {
      "image/png": "[encoded data removed]",
      "text/plain": [
       "<Figure size 576x576 with 9 Axes>"
      ]
     },
     "metadata": {
      "needs_background": "light"
     },
     "output_type": "display_data"
    }
   ],
   "source": [
    "plt.figure(figsize=(8, 8))\n",
    "for images, labels in train_ds.take(1):\n",
    "    for i in range(9):\n",
    "        ax = plt.subplot(3, 3, i + 1)\n",
    "        data = images[i].numpy().astype(\"uint8\")\n",
    "        plt.imshow(data, cmap='gray', vmin=0, vmax=255)\n",
    "        plt.title(train_ds.class_names[labels[i]])\n",
    "        plt.axis(\"off\")"
   ]
  },
  {
   "cell_type": "code",
   "execution_count": 7,
   "id": "524d32a9",
   "metadata": {},
   "outputs": [
    {
     "name": "stdout",
     "output_type": "stream",
     "text": [
      "Model: \"sequential\"\n",
      "_________________________________________________________________\n",
      "Layer (type)                 Output Shape              Param #   \n",
      "=================================================================\n",
      "rescaling (Rescaling)        (None, 28, 28, 1)         0         \n",
      "_________________________________________________________________\n",
      "batch_normalization (BatchNo (None, 28, 28, 1)         4         \n",
      "_________________________________________________________________\n",
      "conv2d (Conv2D)              (None, 28, 28, 6)         60        \n",
      "_________________________________________________________________\n",
      "conv2d_1 (Conv2D)            (None, 28, 28, 8)         440       \n",
      "_________________________________________________________________\n",
      "conv2d_2 (Conv2D)            (None, 28, 28, 10)        730       \n",
      "_________________________________________________________________\n",
      "batch_normalization_1 (Batch (None, 28, 28, 10)        40        \n",
      "_________________________________________________________________\n",
      "max_pooling2d (MaxPooling2D) (None, 14, 14, 10)        0         \n",
      "_________________________________________________________________\n",
      "flatten (Flatten)            (None, 1960)              0         \n",
      "_________________________________________________________________\n",
      "dense (Dense)                (None, 700)               1372700   \n",
      "_________________________________________________________________\n",
      "batch_normalization_2 (Batch (None, 700)               2800      \n",
      "_________________________________________________________________\n",
      "dropout (Dropout)            (None, 700)               0         \n",
      "_________________________________________________________________\n",
      "dense_1 (Dense)              (None, 500)               350500    \n",
      "_________________________________________________________________\n",
      "batch_normalization_3 (Batch (None, 500)               2000      \n",
      "_________________________________________________________________\n",
      "dropout_1 (Dropout)          (None, 500)               0         \n",
      "_________________________________________________________________\n",
      "dense_2 (Dense)              (None, 400)               200400    \n",
      "_________________________________________________________________\n",
      "dropout_2 (Dropout)          (None, 400)               0         \n",
      "_________________________________________________________________\n",
      "dense_3 (Dense)              (None, 345)               138345    \n",
      "=================================================================\n",
      "Total params: 2,068,019\n",
      "Trainable params: 2,065,597\n",
      "Non-trainable params: 2,422\n",
      "_________________________________________________________________\n"
     ]
    }
   ],
   "source": [
    "input_shape = (28, 28, 1)\n",
    "n_classes = 345\n",
    "\n",
    "model = Sequential([\n",
    "    Rescaling(1. / 255, input_shape=input_shape),\n",
    "    BatchNormalization(),\n",
    "\n",
    "    Conv2D(6, kernel_size=(3, 3), padding=\"same\", activation=\"relu\"),\n",
    "    Conv2D(8, kernel_size=(3, 3), padding=\"same\", activation=\"relu\"),\n",
    "    Conv2D(10, kernel_size=(3, 3), padding=\"same\", activation=\"relu\"),\n",
    "    BatchNormalization(),\n",
    "    MaxPooling2D(pool_size=(2, 2)),\n",
    "\n",
    "    Flatten(),\n",
    "\n",
    "    Dense(700, activation='relu'),\n",
    "    BatchNormalization(),\n",
    "    Dropout(0.2),\n",
    "\n",
    "    Dense(500, activation='relu'),\n",
    "    BatchNormalization(),\n",
    "    Dropout(0.2),\n",
    "\n",
    "    Dense(400, activation='relu'),\n",
    "    Dropout(0.2),\n",
    "\n",
    "    Dense(n_classes, activation='softmax')\n",
    "])\n",
    "\n",
    "model.compile(\n",
    "    optimizer=\"adam\",\n",
    "    loss=SparseCategoricalCrossentropy(),\n",
    "    metrics=[\"accuracy\"]\n",
    ")\n",
    "\n",
    "model.summary()"
   ]
  },
  {
   "cell_type": "code",
   "execution_count": 8,
   "id": "ce2f0486",
   "metadata": {},
   "outputs": [
    {
     "name": "stderr",
     "output_type": "stream",
     "text": [
      "2022-02-20 18:34:27.732631: I tensorflow/core/profiler/lib/profiler_session.cc:131] Profiler session initializing.\n",
      "2022-02-20 18:34:27.732709: I tensorflow/core/profiler/lib/profiler_session.cc:146] Profiler session started.\n",
      "2022-02-20 18:34:27.733704: I tensorflow/core/profiler/lib/profiler_session.cc:164] Profiler session tear down.\n"
     ]
    },
    {
     "name": "stdout",
     "output_type": "stream",
     "text": [
      "    5/11213 [..............................] - ETA: 9:24 - loss: 6.2834 - accuracy: 0.0063     "
     ]
    },
    {
     "name": "stderr",
     "output_type": "stream",
     "text": [
      "2022-02-20 18:34:28.697977: I tensorflow/core/profiler/lib/profiler_session.cc:131] Profiler session initializing.\n",
      "2022-02-20 18:34:28.698013: I tensorflow/core/profiler/lib/profiler_session.cc:146] Profiler session started.\n",
      "2022-02-20 18:34:28.739957: I tensorflow/core/profiler/lib/profiler_session.cc:66] Profiler session collecting data.\n",
      "2022-02-20 18:34:28.743568: I tensorflow/core/profiler/lib/profiler_session.cc:164] Profiler session tear down.\n",
      "2022-02-20 18:34:28.748593: I tensorflow/core/profiler/rpc/client/save_profile.cc:136] Creating directory: logs/20220220-183427/train/plugins/profile/2022_02_20_18_34_28\n",
      "\n",
      "2022-02-20 18:34:28.751428: I tensorflow/core/profiler/rpc/client/save_profile.cc:142] Dumped gzipped tool data for trace.json.gz to logs/20220220-183427/train/plugins/profile/2022_02_20_18_34_28/lars-UM700.trace.json.gz\n",
      "2022-02-20 18:34:28.756297: I tensorflow/core/profiler/rpc/client/save_profile.cc:136] Creating directory: logs/20220220-183427/train/plugins/profile/2022_02_20_18_34_28\n",
      "\n",
      "2022-02-20 18:34:28.756448: I tensorflow/core/profiler/rpc/client/save_profile.cc:142] Dumped gzipped tool data for memory_profile.json.gz to logs/20220220-183427/train/plugins/profile/2022_02_20_18_34_28/lars-UM700.memory_profile.json.gz\n",
      "2022-02-20 18:34:28.756851: I tensorflow/core/profiler/rpc/client/capture_profile.cc:251] Creating directory: logs/20220220-183427/train/plugins/profile/2022_02_20_18_34_28\n",
      "Dumped tool data for xplane.pb to logs/20220220-183427/train/plugins/profile/2022_02_20_18_34_28/lars-UM700.xplane.pb\n",
      "Dumped tool data for overview_page.pb to logs/20220220-183427/train/plugins/profile/2022_02_20_18_34_28/lars-UM700.overview_page.pb\n",
      "Dumped tool data for input_pipeline.pb to logs/20220220-183427/train/plugins/profile/2022_02_20_18_34_28/lars-UM700.input_pipeline.pb\n",
      "Dumped tool data for tensorflow_stats.pb to logs/20220220-183427/train/plugins/profile/2022_02_20_18_34_28/lars-UM700.tensorflow_stats.pb\n",
      "Dumped tool data for kernel_stats.pb to logs/20220220-183427/train/plugins/profile/2022_02_20_18_34_28/lars-UM700.kernel_stats.pb\n",
      "\n"
     ]
    },
    {
     "name": "stdout",
     "output_type": "stream",
     "text": [
      "11213/11213 [==============================] - 367s 33ms/step - loss: 2.8425 - accuracy: 0.3385 - val_loss: 1.9777 - val_accuracy: 0.4953\n"
     ]
    },
    {
     "name": "stderr",
     "output_type": "stream",
     "text": [
      "2022-02-20 18:40:35.216073: W tensorflow/core/framework/cpu_allocator_impl.cc:80] Allocation of 164640000 exceeds 10% of free system memory.\n",
      "2022-02-20 18:40:36.477224: W tensorflow/python/util/util.cc:348] Sets are not currently considered sequences, but this may change in the future, so consider avoiding using them.\n"
     ]
    },
    {
     "name": "stdout",
     "output_type": "stream",
     "text": [
      "INFO:tensorflow:Assets written to: ./models/model_20220220-184035/assets\n"
     ]
    }
   ],
   "source": [
    "epochs = 1\n",
    "\n",
    "logdir = os.path.join(\"logs\", datetime.datetime.now().strftime(\"%Y%m%d-%H%M%S\"))\n",
    "tensorboard_callback = TensorBoard(logdir, histogram_freq=1)\n",
    "\n",
    "model.fit(\n",
    "    train_ds,\n",
    "    validation_data=val_ds,\n",
    "    epochs=epochs,\n",
    "    verbose=1,\n",
    "    callbacks=[tensorboard_callback]\n",
    ")\n",
    "\n",
    "model.save('./models/model_' + datetime.datetime.now().strftime(\"%Y%m%d-%H%M%S\"))"
   ]
  },
  {
   "cell_type": "code",
   "execution_count": null,
   "id": "fb2f529e",
   "metadata": {},
   "outputs": [],
   "source": [
    "%tensorboard --logdir logs"
   ]
  }
 ],
 "metadata": {
  "kernelspec": {
   "display_name": "Python 3 (ipykernel)",
   "language": "python",
   "name": "python3"
  },
  "language_info": {
   "codemirror_mode": {
    "name": "ipython",
    "version": 3
   },
   "file_extension": ".py",
   "mimetype": "text/x-python",
   "name": "python",
   "nbconvert_exporter": "python",
   "pygments_lexer": "ipython3",
   "version": "3.8.10"
  }
 },
 "nbformat": 4,
 "nbformat_minor": 5
}
